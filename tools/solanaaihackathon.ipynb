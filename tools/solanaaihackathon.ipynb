{
 "cells": [
  {
   "cell_type": "code",
   "execution_count": 95,
   "metadata": {},
   "outputs": [],
   "source": [
    "import requests\n",
    "import pandas as pd\n",
    "import time\n",
    "\n",
    "def get_repo_star(repo_url):\n",
    "    if repo_url.startswith(\"https://github.com/\"):\n",
    "        repo_url = repo_url.replace(\"https://github.com/\", \"\")\n",
    "        if repo_url.endswith(\"/\"):\n",
    "            repo_url = repo_url[:-1]\n",
    "        elements = repo_url.split(\"/\")\n",
    "        if len(elements) == 2:\n",
    "            # time.sleep(1)\n",
    "            owner, repo = elements[0], elements[1]\n",
    "            url = f'https://api.github.com/repos/{owner}/{repo}'\n",
    "            response = requests.get(url)\n",
    "            if response.status_code == 200:\n",
    "                repo_info = response.json()\n",
    "                return repo_info[\"stargazers_count\"]\n",
    "            elif response.status_code == 404:\n",
    "                return -404\n",
    "            else:\n",
    "                return -1\n",
    "            \n",
    "        return -2\n",
    "    return -2"
   ]
  },
  {
   "cell_type": "code",
   "execution_count": null,
   "metadata": {},
   "outputs": [],
   "source": [
    "response = requests.get(\"https://www.solanaaihackathon.com/api/projects\")\n",
    "projects = response.json()"
   ]
  },
  {
   "cell_type": "code",
   "execution_count": null,
   "metadata": {},
   "outputs": [],
   "source": [
    "row_0 = ['name', 'githubUrl', 'twitterUrl', 'websiteUrl', 'description', 'stargazers_count']\n",
    "\n",
    "datas = []\n",
    "for project in projects:\n",
    "    name, githubUrl, twitterUrl, websiteUrl, description = project[\"name\"], project[\"githubUrl\"], project[\"twitterUrl\"], project[\"websiteUrl\"], project[\"description\"]\n",
    "    stargazers_count = get_repo_star(githubUrl)\n",
    "\n",
    "    datas.append([name, githubUrl, twitterUrl, websiteUrl, description ,stargazers_count])\n",
    "\n",
    "df = pd.DataFrame(datas, columns=row_0)\n",
    "df.to_excel(\"solanaaihackathon.xlsx\")"
   ]
  },
  {
   "cell_type": "code",
   "execution_count": 98,
   "metadata": {},
   "outputs": [],
   "source": [
    "projects = pd.read_excel(\"solanaaihackathon.xlsx\")\n",
    "\n",
    "row_0 = ['name', 'githubUrl', 'twitterUrl', 'websiteUrl', 'description', 'stargazers_count']\n",
    "\n",
    "datas = []\n",
    "for _, row in projects.iterrows():\n",
    "    name, githubUrl, twitterUrl, websiteUrl, description, stargazers_count = row[\"name\"], row[\"githubUrl\"], row[\"twitterUrl\"], row[\"websiteUrl\"], row[\"description\"], row[\"stargazers_count\"]\n",
    "    if stargazers_count == -1 or pd.isna(stargazers_count):\n",
    "        stargazers_count = get_repo_star(githubUrl)\n",
    "\n",
    "    datas.append([name, githubUrl, twitterUrl, websiteUrl, description ,stargazers_count])\n",
    "\n",
    "df = pd.DataFrame(datas, columns=row_0)\n",
    "df.to_excel(\"solanaaihackathon.xlsx\")      \n",
    "    "
   ]
  }
 ],
 "metadata": {
  "kernelspec": {
   "display_name": ".venv",
   "language": "python",
   "name": "python3"
  },
  "language_info": {
   "codemirror_mode": {
    "name": "ipython",
    "version": 3
   },
   "file_extension": ".py",
   "mimetype": "text/x-python",
   "name": "python",
   "nbconvert_exporter": "python",
   "pygments_lexer": "ipython3",
   "version": "3.13.0"
  }
 },
 "nbformat": 4,
 "nbformat_minor": 2
}
